{
 "cells": [
  {
   "cell_type": "code",
   "execution_count": 1,
   "metadata": {},
   "outputs": [],
   "source": [
    "import pandas as pd "
   ]
  },
  {
   "cell_type": "code",
   "execution_count": 2,
   "metadata": {},
   "outputs": [
    {
     "data": {
      "text/html": [
       "<div>\n",
       "<style scoped>\n",
       "    .dataframe tbody tr th:only-of-type {\n",
       "        vertical-align: middle;\n",
       "    }\n",
       "\n",
       "    .dataframe tbody tr th {\n",
       "        vertical-align: top;\n",
       "    }\n",
       "\n",
       "    .dataframe thead th {\n",
       "        text-align: right;\n",
       "    }\n",
       "</style>\n",
       "<table border=\"1\" class=\"dataframe\">\n",
       "  <thead>\n",
       "    <tr style=\"text-align: right;\">\n",
       "      <th></th>\n",
       "      <th>HolderAddress</th>\n",
       "      <th>Balance</th>\n",
       "      <th>PendingBalanceUpdate</th>\n",
       "    </tr>\n",
       "  </thead>\n",
       "  <tbody>\n",
       "    <tr>\n",
       "      <th>0</th>\n",
       "      <td>0x7df5273ad9a6fcce64d45c64c1e43cfb6f861725</td>\n",
       "      <td>1.864205e-04</td>\n",
       "      <td>No</td>\n",
       "    </tr>\n",
       "    <tr>\n",
       "      <th>1</th>\n",
       "      <td>0xfbb1b73c4f0bda4f67dca266ce6ef42f520fbb98</td>\n",
       "      <td>8.245614e+06</td>\n",
       "      <td>No</td>\n",
       "    </tr>\n",
       "    <tr>\n",
       "      <th>2</th>\n",
       "      <td>0x8aa8c6b8897665d62d03e4c6dfc823142a4b44d8</td>\n",
       "      <td>2.000000e-03</td>\n",
       "      <td>No</td>\n",
       "    </tr>\n",
       "    <tr>\n",
       "      <th>3</th>\n",
       "      <td>0x3155674fccb839d6c229dbcc8463ccc32cb36710</td>\n",
       "      <td>2.838473e+06</td>\n",
       "      <td>No</td>\n",
       "    </tr>\n",
       "    <tr>\n",
       "      <th>4</th>\n",
       "      <td>0x31ba114e64d5c3c9b9123a3a19771b65c820a811</td>\n",
       "      <td>5.268272e+06</td>\n",
       "      <td>No</td>\n",
       "    </tr>\n",
       "  </tbody>\n",
       "</table>\n",
       "</div>"
      ],
      "text/plain": [
       "                                HolderAddress       Balance  \\\n",
       "0  0x7df5273ad9a6fcce64d45c64c1e43cfb6f861725  1.864205e-04   \n",
       "1  0xfbb1b73c4f0bda4f67dca266ce6ef42f520fbb98  8.245614e+06   \n",
       "2  0x8aa8c6b8897665d62d03e4c6dfc823142a4b44d8  2.000000e-03   \n",
       "3  0x3155674fccb839d6c229dbcc8463ccc32cb36710  2.838473e+06   \n",
       "4  0x31ba114e64d5c3c9b9123a3a19771b65c820a811  5.268272e+06   \n",
       "\n",
       "  PendingBalanceUpdate  \n",
       "0                   No  \n",
       "1                   No  \n",
       "2                   No  \n",
       "3                   No  \n",
       "4                   No  "
      ]
     },
     "execution_count": 2,
     "metadata": {},
     "output_type": "execute_result"
    }
   ],
   "source": [
    "\n",
    "df = pd.read_csv('https://raw.githubusercontent.com/Crypto-Phil/ocean_rewards/main/export-tokenholders-for-contract-0x967da4048cD07aB37855c090aAF366e4ce1b9F48.csv')\n",
    "df.head()"
   ]
  },
  {
   "cell_type": "code",
   "execution_count": 6,
   "metadata": {},
   "outputs": [
    {
     "name": "stdout",
     "output_type": "stream",
     "text": [
      "HolderAddress\n",
      "Balance\n",
      "PendingBalanceUpdate\n"
     ]
    }
   ],
   "source": [
    "for col in df.columns:\n",
    "    print(col)"
   ]
  },
  {
   "cell_type": "code",
   "execution_count": 10,
   "metadata": {},
   "outputs": [
    {
     "data": {
      "text/plain": [
       "613110154.3233057"
      ]
     },
     "execution_count": 10,
     "metadata": {},
     "output_type": "execute_result"
    }
   ],
   "source": [
    "total_ocean = df['Balance'].sum()\n",
    "total_ocean"
   ]
  },
  {
   "cell_type": "code",
   "execution_count": 11,
   "metadata": {},
   "outputs": [
    {
     "data": {
      "text/html": [
       "<div>\n",
       "<style scoped>\n",
       "    .dataframe tbody tr th:only-of-type {\n",
       "        vertical-align: middle;\n",
       "    }\n",
       "\n",
       "    .dataframe tbody tr th {\n",
       "        vertical-align: top;\n",
       "    }\n",
       "\n",
       "    .dataframe thead th {\n",
       "        text-align: right;\n",
       "    }\n",
       "</style>\n",
       "<table border=\"1\" class=\"dataframe\">\n",
       "  <thead>\n",
       "    <tr style=\"text-align: right;\">\n",
       "      <th></th>\n",
       "      <th>HolderAddress</th>\n",
       "      <th>Balance</th>\n",
       "      <th>PendingBalanceUpdate</th>\n",
       "    </tr>\n",
       "  </thead>\n",
       "  <tbody>\n",
       "    <tr>\n",
       "      <th>19776</th>\n",
       "      <td>0xb10e56edb7698c960f1562c7edcc15612900c4a5</td>\n",
       "      <td>1.000000e-18</td>\n",
       "      <td>No</td>\n",
       "    </tr>\n",
       "    <tr>\n",
       "      <th>30555</th>\n",
       "      <td>0x00000000002664633b221687a4ec73d78328d4b2</td>\n",
       "      <td>1.000000e-18</td>\n",
       "      <td>No</td>\n",
       "    </tr>\n",
       "    <tr>\n",
       "      <th>21480</th>\n",
       "      <td>0xc0cfdbe3df229f08da653345ee6d627f747cf7c1</td>\n",
       "      <td>1.000000e-18</td>\n",
       "      <td>No</td>\n",
       "    </tr>\n",
       "    <tr>\n",
       "      <th>8639</th>\n",
       "      <td>0x000000a61aa8c4e48a832cc39655ef8156097aa2</td>\n",
       "      <td>1.000000e-18</td>\n",
       "      <td>No</td>\n",
       "    </tr>\n",
       "    <tr>\n",
       "      <th>26523</th>\n",
       "      <td>0xbf3f6477dbd514ef85b7d3ec6ac2205fd0962039</td>\n",
       "      <td>1.000000e-18</td>\n",
       "      <td>No</td>\n",
       "    </tr>\n",
       "    <tr>\n",
       "      <th>...</th>\n",
       "      <td>...</td>\n",
       "      <td>...</td>\n",
       "      <td>...</td>\n",
       "    </tr>\n",
       "    <tr>\n",
       "      <th>26100</th>\n",
       "      <td>0x0fa9e77f7c2bd1c15ad18a97271f3d5181d686bf</td>\n",
       "      <td>2.350000e+07</td>\n",
       "      <td>No</td>\n",
       "    </tr>\n",
       "    <tr>\n",
       "      <th>18771</th>\n",
       "      <td>0x53ab4a93b31f480d17d3440a6329bda86869458a</td>\n",
       "      <td>3.255219e+07</td>\n",
       "      <td>No</td>\n",
       "    </tr>\n",
       "    <tr>\n",
       "      <th>9917</th>\n",
       "      <td>0xbe0eb53f46cd790cd13851d5eff43d12404d33e8</td>\n",
       "      <td>3.357751e+07</td>\n",
       "      <td>No</td>\n",
       "    </tr>\n",
       "    <tr>\n",
       "      <th>19500</th>\n",
       "      <td>0xf977814e90da44bfa03b6295a0616a897441acec</td>\n",
       "      <td>4.625952e+07</td>\n",
       "      <td>No</td>\n",
       "    </tr>\n",
       "    <tr>\n",
       "      <th>26689</th>\n",
       "      <td>0xd5e6219a79c5cc61b9074331d1b05a6f35c5a48a</td>\n",
       "      <td>9.429978e+07</td>\n",
       "      <td>No</td>\n",
       "    </tr>\n",
       "  </tbody>\n",
       "</table>\n",
       "<p>33054 rows × 3 columns</p>\n",
       "</div>"
      ],
      "text/plain": [
       "                                    HolderAddress       Balance  \\\n",
       "19776  0xb10e56edb7698c960f1562c7edcc15612900c4a5  1.000000e-18   \n",
       "30555  0x00000000002664633b221687a4ec73d78328d4b2  1.000000e-18   \n",
       "21480  0xc0cfdbe3df229f08da653345ee6d627f747cf7c1  1.000000e-18   \n",
       "8639   0x000000a61aa8c4e48a832cc39655ef8156097aa2  1.000000e-18   \n",
       "26523  0xbf3f6477dbd514ef85b7d3ec6ac2205fd0962039  1.000000e-18   \n",
       "...                                           ...           ...   \n",
       "26100  0x0fa9e77f7c2bd1c15ad18a97271f3d5181d686bf  2.350000e+07   \n",
       "18771  0x53ab4a93b31f480d17d3440a6329bda86869458a  3.255219e+07   \n",
       "9917   0xbe0eb53f46cd790cd13851d5eff43d12404d33e8  3.357751e+07   \n",
       "19500  0xf977814e90da44bfa03b6295a0616a897441acec  4.625952e+07   \n",
       "26689  0xd5e6219a79c5cc61b9074331d1b05a6f35c5a48a  9.429978e+07   \n",
       "\n",
       "      PendingBalanceUpdate  \n",
       "19776                   No  \n",
       "30555                   No  \n",
       "21480                   No  \n",
       "8639                    No  \n",
       "26523                   No  \n",
       "...                    ...  \n",
       "26100                   No  \n",
       "18771                   No  \n",
       "9917                    No  \n",
       "19500                   No  \n",
       "26689                   No  \n",
       "\n",
       "[33054 rows x 3 columns]"
      ]
     },
     "execution_count": 11,
     "metadata": {},
     "output_type": "execute_result"
    }
   ],
   "source": [
    "df.sort_values(by=['Balance'])"
   ]
  },
  {
   "cell_type": "code",
   "execution_count": 12,
   "metadata": {},
   "outputs": [
    {
     "data": {
      "image/png": "[encoded data removed]",
      "text/plain": [
       "<Figure size 432x288 with 1 Axes>"
      ]
     },
     "metadata": {
      "needs_background": "light"
     },
     "output_type": "display_data"
    }
   ],
   "source": [
    "fig = df.plot()"
   ]
  },
  {
   "cell_type": "code",
   "execution_count": null,
   "metadata": {},
   "outputs": [],
   "source": []
  }
 ],
 "metadata": {
  "kernelspec": {
   "display_name": "Python 3",
   "language": "python",
   "name": "python3"
  },
  "language_info": {
   "codemirror_mode": {
    "name": "ipython",
    "version": 3
   },
   "file_extension": ".py",
   "mimetype": "text/x-python",
   "name": "python",
   "nbconvert_exporter": "python",
   "pygments_lexer": "ipython3",
   "version": "3.8.5"
  }
 },
 "nbformat": 4,
 "nbformat_minor": 4
}
